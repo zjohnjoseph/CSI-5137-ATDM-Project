{
 "cells": [
  {
   "cell_type": "code",
   "execution_count": 12,
   "metadata": {
    "id": "VQ3o4dfYo4Ws"
   },
   "outputs": [],
   "source": [
    "from sentence_transformers import SentenceTransformer, util\n",
    "from transformers import AutoModelForSequenceClassification, AutoTokenizer\n",
    "from transformers import AutoTokenizer, AutoModelForSeq2SeqLM\n",
    "import sqlparse"
   ]
  },
  {
   "cell_type": "code",
   "execution_count": null,
   "metadata": {
    "colab": {
     "base_uri": "https://localhost:8080/"
    },
    "id": "CoS-6LtduReL",
    "outputId": "3fed0d24-88a5-4478-e3af-79e777ea7e00"
   },
   "outputs": [
    {
     "name": "stdout",
     "output_type": "stream",
     "text": [
      "Generated SQL Candidates with Reasoning:\n",
      "1. SELECT T2.emp_name FROM department AS T1 JOIN employee AS T2 ON T1.dep_id = T2.dep_id WHERE T1.dep_name = \"HR\"\n",
      "2. SELECT T2.emp_name FROM department AS T1 JOIN employee AS T2 ON T1.department_id = T2.department_id WHERE T1.department_name = \"HR\"\n",
      "3. SELECT T1.emp_name , T1.emp_dept , T1.emp_salary FROM department AS T1 JOIN employee AS T2 ON T1.emp_id = T2.emp_id WHERE T2.dept_name = \"HR\"\n"
     ]
    }
   ],
   "source": [
    "def generate_candidate_sql(model_name, nl_query, db_schema, num_candidates=3):\n",
    "    \"\"\"\n",
    "    Generates SQL queries for a given NL query and database schema using Chain of Thought reasoning.\n",
    "\n",
    "    \"\"\"\n",
    "    # Load the tokenizer and model\n",
    "    tokenizer = AutoTokenizer.from_pretrained(model_name)\n",
    "    model = AutoModelForSeq2SeqLM.from_pretrained(model_name)\n",
    "\n",
    "    # CoT prompt\n",
    "    prompt = f\"\"\"\n",
    "Step 1: Understand the schema and identify the tables and columns needed for the query.\n",
    "Step 2: Break down the natural language query into logical conditions.\n",
    "Step 3: Translate the logical conditions into SQL clauses (SELECT, FROM, WHERE, etc.).\n",
    "Step 4: Assemble the SQL query step by step.\n",
    "\n",
    "Database Schema:\n",
    "{db_schema}\n",
    "\n",
    "Natural Language Query:\n",
    "{nl_query}\n",
    "\n",
    "Step-by-step reasoning and SQL query:\n",
    "\"\"\"\n",
    "\n",
    "    # Tokenize the prompt\n",
    "    inputs = tokenizer(prompt, return_tensors=\"pt\", truncation=True)\n",
    "\n",
    "    # Generate SQL candidates using Beam Search\n",
    "    outputs = model.generate(\n",
    "        inputs[\"input_ids\"],\n",
    "        max_length=300,\n",
    "        num_beams=5,\n",
    "        temperature=0.7,\n",
    "        num_return_sequences=num_candidates\n",
    "    )\n",
    "\n",
    "    # Decode and return the generated SQL queries\n",
    "    sql_candidates = [tokenizer.decode(output, skip_special_tokens=True).strip() for output in outputs]\n",
    "    return sql_candidates\n",
    "\n",
    "model_name = \"google/flan-t5-large\"\n",
    "db_schema = \"\"\"\n",
    "Table Employee (emp_id, emp_name, dep_id, emp_salary)\n",
    "Table Department (dep_id, dep_name)\n",
    "\"\"\"\n",
    "nl_query = \"What are the names of employees in the HR department?\"\n",
    "\n",
    "candidates = generate_candidate_sql(model_name, nl_query, db_schema, num_candidates=3)\n",
    "\n",
    "print(\"Generated SQL Candidates with Reasoning:\")\n",
    "for i, candidate in enumerate(candidates, 1):\n",
    "    print(f\"{i}. {candidate}\")"
   ]
  },
  {
   "cell_type": "code",
   "execution_count": 19,
   "metadata": {
    "id": "IxrudbK-o_FP"
   },
   "outputs": [],
   "source": [
    "def first_stage_ranking(nl_query, sql_candidates, top_k=5):\n",
    "    \"\"\"\n",
    "    Coarse-grained ranking of SQL candidates based on semantic similarity.\n",
    "\n",
    "    \"\"\"\n",
    "    model = SentenceTransformer('all-MiniLM-L6-v2')  # semantic model\n",
    "\n",
    "    # Encode the natural language query and SQL candidates\n",
    "    nl_embedding = model.encode(nl_query, convert_to_tensor=True)\n",
    "    sql_embeddings = model.encode(sql_candidates, convert_to_tensor=True)\n",
    "\n",
    "    # Compute cosine similarity\n",
    "    scores = util.cos_sim(nl_embedding, sql_embeddings)[0]\n",
    "\n",
    "    # Sort and select top-k candidates\n",
    "    ranked_candidates = sorted(zip(sql_candidates, scores.tolist()), key=lambda x: x[1], reverse=True)\n",
    "    return [candidate for candidate, score in ranked_candidates[:top_k]]\n"
   ]
  },
  {
   "cell_type": "code",
   "execution_count": 20,
   "metadata": {
    "id": "whNZMTKkpBWh"
   },
   "outputs": [],
   "source": [
    "def second_stage_ranking(nl_query, sql_candidates, model_name=\"bert-base-uncased\"):\n",
    "    \"\"\"\n",
    "    Fine-grained ranking of SQL candidates using a pre-trained transformer model.\n",
    "\n",
    "    \"\"\"\n",
    "    tokenizer = AutoTokenizer.from_pretrained(model_name)\n",
    "    model = AutoModelForSequenceClassification.from_pretrained(model_name)\n",
    "\n",
    "    # Compute scores for each candidate\n",
    "    scores = []\n",
    "    for sql_query in sql_candidates:\n",
    "        inputs = tokenizer(nl_query, sql_query, return_tensors=\"pt\", truncation=True, padding=True)\n",
    "        outputs = model(**inputs)\n",
    "        logits = outputs.logits[0]  # Extract logits\n",
    "        positive_class_score = logits[1].item()  # Use the positive class for ranking\n",
    "        scores.append(positive_class_score)\n",
    "\n",
    "    # Rank candidates by score\n",
    "    ranked_candidates = sorted(zip(sql_candidates, scores), key=lambda x: x[1], reverse=True)\n",
    "    return ranked_candidates\n"
   ]
  },
  {
   "cell_type": "code",
   "execution_count": 21,
   "metadata": {
    "id": "72_ak5LPpfIo"
   },
   "outputs": [],
   "source": [
    "def validate_sql_query(sql_query):\n",
    "    try:\n",
    "        parsed = sqlparse.parse(sql_query)\n",
    "        return bool(parsed)  # Returns False if parsing fails\n",
    "    except Exception as e:\n",
    "        return False\n"
   ]
  },
  {
   "cell_type": "code",
   "execution_count": 22,
   "metadata": {
    "id": "u6pkdnPOpg_M"
   },
   "outputs": [],
   "source": [
    "def rank_and_select_sql_query(nl_query, sql_candidates):\n",
    "    \"\"\"\n",
    "    Ranks SQL candidates and selects the best query.\n",
    "\n",
    "    \"\"\"\n",
    "    # Step 1: First-stage ranking\n",
    "    top_candidates = first_stage_ranking(nl_query, sql_candidates, top_k=5)\n",
    "\n",
    "    # Step 2: Second-stage ranking\n",
    "    ranked_candidates = second_stage_ranking(nl_query, top_candidates)\n",
    "\n",
    "    # Step 3: Select the top-ranked query\n",
    "    best_candidate, score = ranked_candidates[0]\n",
    "\n",
    "    # Step 4: Validate the top query\n",
    "    if validate_sql_query(best_candidate):\n",
    "        return best_candidate\n",
    "    else:\n",
    "        return \"No valid SQL query found.\"\n"
   ]
  },
  {
   "cell_type": "code",
   "execution_count": 24,
   "metadata": {
    "colab": {
     "base_uri": "https://localhost:8080/"
    },
    "id": "TbcmtulwpjSS",
    "outputId": "88244c31-e2fa-4633-d83e-621d191ca6b4"
   },
   "outputs": [
    {
     "name": "stderr",
     "output_type": "stream",
     "text": [
      "Some weights of BertForSequenceClassification were not initialized from the model checkpoint at bert-base-uncased and are newly initialized: ['classifier.bias', 'classifier.weight']\n",
      "You should probably TRAIN this model on a down-stream task to be able to use it for predictions and inference.\n"
     ]
    },
    {
     "name": "stdout",
     "output_type": "stream",
     "text": [
      "Best SQL Query:\n",
      "SELECT T2.emp_name FROM department AS T1 JOIN employee AS T2 ON T1.dep_id = T2.dep_id WHERE T1.dep_name = 'HR';\n"
     ]
    }
   ],
   "source": [
    "# Input: Natural Language Query\n",
    "nl_query = \"What are the names of employees in the HR department?\"\n",
    "\n",
    "# Input: List of SQL Candidate Queries Generated using CoT\n",
    "sql_candidates = [\n",
    "    \"SELECT T2.emp_name FROM department AS T1 JOIN employee AS T2 ON T1.dep_id = T2.dep_id WHERE T1.dep_name = 'HR';\",\n",
    "    \"SELECT T2.emp_name FROM department AS T1 JOIN employee AS T2 ON T1.department_id = T2.department_id WHERE T1.department_name = 'HR';\",\n",
    "    \"SELECT T1.emp_name , T1.emp_dept , T1.emp_salary FROM department AS T1 JOIN employee AS T2 ON T1.emp_id = T2.emp_id WHERE T2.dept_name = 'HR';\"\n",
    "]\n",
    "\n",
    "# Rank and select the best SQL query\n",
    "best_sql_query = rank_and_select_sql_query(nl_query, sql_candidates)\n",
    "\n",
    "print(\"Best SQL Query:\")\n",
    "print(best_sql_query)"
   ]
  },
  {
   "cell_type": "code",
   "execution_count": null,
   "metadata": {
    "id": "OjR--ml0u8YS"
   },
   "outputs": [],
   "source": []
  }
 ],
 "metadata": {
  "colab": {
   "provenance": []
  },
  "kernelspec": {
   "display_name": "Python 3",
   "name": "python3"
  },
  "language_info": {
   "name": "python"
  }
 },
 "nbformat": 4,
 "nbformat_minor": 0
}
